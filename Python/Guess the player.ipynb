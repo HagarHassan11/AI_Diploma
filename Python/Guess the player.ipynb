{
 "cells": [
  {
   "cell_type": "code",
   "execution_count": 11,
   "id": "e9ad3a0d",
   "metadata": {},
   "outputs": [
    {
     "data": {
      "text/plain": [
       "'messi'"
      ]
     },
     "execution_count": 11,
     "metadata": {},
     "output_type": "execute_result"
    }
   ],
   "source": [
    "import random\n",
    "names=[\"salah\",\"messi\",\"halaand\",\"leva\",\"stegen\"]\n",
    "name=random.choice(names)\n",
    "name"
   ]
  },
  {
   "cell_type": "code",
   "execution_count": 12,
   "id": "d4c88289",
   "metadata": {},
   "outputs": [],
   "source": [
    "dashes=[ \"_\" ] * len(name)\n",
    "gussed=set()"
   ]
  },
  {
   "cell_type": "code",
   "execution_count": 13,
   "id": "2e603160",
   "metadata": {},
   "outputs": [
    {
     "name": "stdout",
     "output_type": "stream",
     "text": [
      "Guess a letter: ['_', '_', '_', '_', '_']\n",
      "Guess a letter:m\n",
      "The gussed letters: {'m'}\n",
      "m _ _ _ _\n",
      "Guess a letter:e\n",
      "The gussed letters: {'e', 'm'}\n",
      "m e _ _ _\n",
      "Guess a letter:s\n",
      "The gussed letters: {'e', 'm', 's'}\n",
      "m e s s _\n",
      "Guess a letter:i\n",
      "The gussed letters: {'e', 'm', 's', 'i'}\n",
      "m e s s i\n",
      "congrats you gussed the name:messi\n"
     ]
    }
   ],
   "source": [
    "print(\"Guess a letter:\",dashes)\n",
    "while \"_\" in dashes:\n",
    "    guess=input(\"Guess a letter:\")\n",
    "    if guess in gussed:\n",
    "        print(\"you already gussed the letter\")\n",
    "        continue\n",
    "    gussed.add(guess)\n",
    "    if guess in name:\n",
    "        for i in range (len(name)):\n",
    "            if name[i]==guess:\n",
    "                dashes[i]=guess\n",
    "    print(\"The gussed letters:\",gussed)\n",
    "    print(' '.join(dashes)) #single string\n",
    "print(f\"congrats you gussed the name:{name}\")"
   ]
  }
 ],
 "metadata": {
  "kernelspec": {
   "display_name": "Python 3 (ipykernel)",
   "language": "python",
   "name": "python3"
  },
  "language_info": {
   "codemirror_mode": {
    "name": "ipython",
    "version": 3
   },
   "file_extension": ".py",
   "mimetype": "text/x-python",
   "name": "python",
   "nbconvert_exporter": "python",
   "pygments_lexer": "ipython3",
   "version": "3.11.4"
  }
 },
 "nbformat": 4,
 "nbformat_minor": 5
}
